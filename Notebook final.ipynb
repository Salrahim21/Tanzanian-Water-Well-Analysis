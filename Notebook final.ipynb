{
 "cells": [
  {
   "cell_type": "markdown",
   "id": "8e93aa70",
   "metadata": {},
   "source": [
    "## Importing Required Libraries\n",
    "This section imports all necessary Python libraries for data manipulation, preprocessing, modeling, and evaluation."
   ]
  },
  {
   "cell_type": "code",
   "execution_count": 1,
   "id": "2bc776a7",
   "metadata": {},
   "outputs": [],
   "source": [
    "import numpy as np\n",
    "import pandas as pd\n",
    "from sklearn.model_selection import train_test_split\n",
    "from sklearn.linear_model import LogisticRegression\n",
    "from sklearn.impute import SimpleImputer\n",
    "from sklearn.preprocessing import MinMaxScaler, OneHotEncoder,StandardScaler\n",
    "from sklearn.metrics import accuracy_score, precision_score, recall_score, f1_score, roc_auc_score"
   ]
  },
  {
   "cell_type": "markdown",
   "id": "84137e9b",
   "metadata": {},
   "source": [
    "## Loading the Dataset\n",
    "Here, we load the training labels and features from CSV files."
   ]
  },
  {
   "cell_type": "code",
   "execution_count": 2,
   "id": "e80e697d",
   "metadata": {},
   "outputs": [],
   "source": [
    "X = pd.read_csv('Data\\Training_set_labels.csv')\n",
    "y = pd.read_csv('Data\\Training_set_values.csv')\n"
   ]
  },
  {
   "cell_type": "markdown",
   "id": "7cc1f41a",
   "metadata": {},
   "source": [
    "We merge the datasets on the `id` column to create a unified DataFrame."
   ]
  },
  {
   "cell_type": "code",
   "execution_count": 3,
   "id": "bd28cbf6",
   "metadata": {},
   "outputs": [],
   "source": [
    "df=X.merge(y,on='id')"
   ]
  },
  {
   "cell_type": "markdown",
   "id": "b5ff2bdd",
   "metadata": {},
   "source": [
    "This is a user defined function giving a brief summary on the dataset "
   ]
  },
  {
   "cell_type": "code",
   "execution_count": 4,
   "id": "6e233a63",
   "metadata": {},
   "outputs": [],
   "source": [
    "def explore_dataframe(df, name=\"DataFrame\"): #user defined function to get the shape,info and description of the dataset\n",
    "    print(f\"\\n===== {name} Overview =====\")\n",
    "    \n",
    "    print(\"\\nShape:\")\n",
    "    print(df.shape)\n",
    "    \n",
    "    print(\"\\nInfo:\")\n",
    "    print(\"-\" * 40)\n",
    "    df.info()\n",
    "    \n",
    "    print(\"\\nDescription:\")\n",
    "    print(\"-\" * 40)\n",
    "    print(df.describe(include='all'))"
   ]
  },
  {
   "cell_type": "code",
   "execution_count": 5,
   "id": "50f79d8f",
   "metadata": {},
   "outputs": [
    {
     "name": "stdout",
     "output_type": "stream",
     "text": [
      "\n",
      "===== Tanzania Well Analysis Overview =====\n",
      "\n",
      "Shape:\n",
      "(59400, 41)\n",
      "\n",
      "Info:\n",
      "----------------------------------------\n",
      "<class 'pandas.core.frame.DataFrame'>\n",
      "RangeIndex: 59400 entries, 0 to 59399\n",
      "Data columns (total 41 columns):\n",
      " #   Column                 Non-Null Count  Dtype  \n",
      "---  ------                 --------------  -----  \n",
      " 0   id                     59400 non-null  int64  \n",
      " 1   status_group           59400 non-null  object \n",
      " 2   amount_tsh             59400 non-null  float64\n",
      " 3   date_recorded          59400 non-null  object \n",
      " 4   funder                 55763 non-null  object \n",
      " 5   gps_height             59400 non-null  int64  \n",
      " 6   installer              55745 non-null  object \n",
      " 7   longitude              59400 non-null  float64\n",
      " 8   latitude               59400 non-null  float64\n",
      " 9   wpt_name               59398 non-null  object \n",
      " 10  num_private            59400 non-null  int64  \n",
      " 11  basin                  59400 non-null  object \n",
      " 12  subvillage             59029 non-null  object \n",
      " 13  region                 59400 non-null  object \n",
      " 14  region_code            59400 non-null  int64  \n",
      " 15  district_code          59400 non-null  int64  \n",
      " 16  lga                    59400 non-null  object \n",
      " 17  ward                   59400 non-null  object \n",
      " 18  population             59400 non-null  int64  \n",
      " 19  public_meeting         56066 non-null  object \n",
      " 20  recorded_by            59400 non-null  object \n",
      " 21  scheme_management      55522 non-null  object \n",
      " 22  scheme_name            30590 non-null  object \n",
      " 23  permit                 56344 non-null  object \n",
      " 24  construction_year      59400 non-null  int64  \n",
      " 25  extraction_type        59400 non-null  object \n",
      " 26  extraction_type_group  59400 non-null  object \n",
      " 27  extraction_type_class  59400 non-null  object \n",
      " 28  management             59400 non-null  object \n",
      " 29  management_group       59400 non-null  object \n",
      " 30  payment                59400 non-null  object \n",
      " 31  payment_type           59400 non-null  object \n",
      " 32  water_quality          59400 non-null  object \n",
      " 33  quality_group          59400 non-null  object \n",
      " 34  quantity               59400 non-null  object \n",
      " 35  quantity_group         59400 non-null  object \n",
      " 36  source                 59400 non-null  object \n",
      " 37  source_type            59400 non-null  object \n",
      " 38  source_class           59400 non-null  object \n",
      " 39  waterpoint_type        59400 non-null  object \n",
      " 40  waterpoint_type_group  59400 non-null  object \n",
      "dtypes: float64(3), int64(7), object(31)\n",
      "memory usage: 18.6+ MB\n",
      "\n",
      "Description:\n",
      "----------------------------------------\n",
      "                  id status_group     amount_tsh date_recorded  \\\n",
      "count   59400.000000        59400   59400.000000         59400   \n",
      "unique           NaN            3            NaN           356   \n",
      "top              NaN   functional            NaN    2011-03-15   \n",
      "freq             NaN        32259            NaN           572   \n",
      "mean    37115.131768          NaN     317.650385           NaN   \n",
      "std     21453.128371          NaN    2997.574558           NaN   \n",
      "min         0.000000          NaN       0.000000           NaN   \n",
      "25%     18519.750000          NaN       0.000000           NaN   \n",
      "50%     37061.500000          NaN       0.000000           NaN   \n",
      "75%     55656.500000          NaN      20.000000           NaN   \n",
      "max     74247.000000          NaN  350000.000000           NaN   \n",
      "\n",
      "                        funder    gps_height installer     longitude  \\\n",
      "count                    55763  59400.000000     55745  59400.000000   \n",
      "unique                    1896           NaN      2145           NaN   \n",
      "top     Government Of Tanzania           NaN       DWE           NaN   \n",
      "freq                      9084           NaN     17402           NaN   \n",
      "mean                       NaN    668.297239       NaN     34.077427   \n",
      "std                        NaN    693.116350       NaN      6.567432   \n",
      "min                        NaN    -90.000000       NaN      0.000000   \n",
      "25%                        NaN      0.000000       NaN     33.090347   \n",
      "50%                        NaN    369.000000       NaN     34.908743   \n",
      "75%                        NaN   1319.250000       NaN     37.178387   \n",
      "max                        NaN   2770.000000       NaN     40.345193   \n",
      "\n",
      "            latitude wpt_name  ...  payment_type water_quality quality_group  \\\n",
      "count   5.940000e+04    59398  ...         59400         59400         59400   \n",
      "unique           NaN    37399  ...             7             8             6   \n",
      "top              NaN     none  ...     never pay          soft          good   \n",
      "freq             NaN     3563  ...         25348         50818         50818   \n",
      "mean   -5.706033e+00      NaN  ...           NaN           NaN           NaN   \n",
      "std     2.946019e+00      NaN  ...           NaN           NaN           NaN   \n",
      "min    -1.164944e+01      NaN  ...           NaN           NaN           NaN   \n",
      "25%    -8.540621e+00      NaN  ...           NaN           NaN           NaN   \n",
      "50%    -5.021597e+00      NaN  ...           NaN           NaN           NaN   \n",
      "75%    -3.326156e+00      NaN  ...           NaN           NaN           NaN   \n",
      "max    -2.000000e-08      NaN  ...           NaN           NaN           NaN   \n",
      "\n",
      "       quantity  quantity_group  source source_type source_class  \\\n",
      "count     59400           59400   59400       59400        59400   \n",
      "unique        5               5      10           7            3   \n",
      "top      enough          enough  spring      spring  groundwater   \n",
      "freq      33186           33186   17021       17021        45794   \n",
      "mean        NaN             NaN     NaN         NaN          NaN   \n",
      "std         NaN             NaN     NaN         NaN          NaN   \n",
      "min         NaN             NaN     NaN         NaN          NaN   \n",
      "25%         NaN             NaN     NaN         NaN          NaN   \n",
      "50%         NaN             NaN     NaN         NaN          NaN   \n",
      "75%         NaN             NaN     NaN         NaN          NaN   \n",
      "max         NaN             NaN     NaN         NaN          NaN   \n",
      "\n",
      "           waterpoint_type waterpoint_type_group  \n",
      "count                59400                 59400  \n",
      "unique                   7                     6  \n",
      "top     communal standpipe    communal standpipe  \n",
      "freq                 28522                 34625  \n",
      "mean                   NaN                   NaN  \n",
      "std                    NaN                   NaN  \n",
      "min                    NaN                   NaN  \n",
      "25%                    NaN                   NaN  \n",
      "50%                    NaN                   NaN  \n",
      "75%                    NaN                   NaN  \n",
      "max                    NaN                   NaN  \n",
      "\n",
      "[11 rows x 41 columns]\n"
     ]
    }
   ],
   "source": [
    "explore_dataframe(df,name='Tanzania Well Analysis')"
   ]
  },
  {
   "cell_type": "markdown",
   "id": "8ebcbbf3",
   "metadata": {},
   "source": [
    "## checking  missing values and filling them"
   ]
  },
  {
   "cell_type": "code",
   "execution_count": 6,
   "id": "e5a2bc43",
   "metadata": {},
   "outputs": [
    {
     "name": "stdout",
     "output_type": "stream",
     "text": [
      "scheme_name              48.501684\n",
      "scheme_management         6.528620\n",
      "installer                 6.153199\n",
      "funder                    6.122896\n",
      "public_meeting            5.612795\n",
      "permit                    5.144781\n",
      "subvillage                0.624579\n",
      "wpt_name                  0.003367\n",
      "source                    0.000000\n",
      "management_group          0.000000\n",
      "waterpoint_type           0.000000\n",
      "source_class              0.000000\n",
      "extraction_type_group     0.000000\n",
      "source_type               0.000000\n",
      "extraction_type_class     0.000000\n",
      "management                0.000000\n",
      "payment                   0.000000\n",
      "quantity_group            0.000000\n",
      "payment_type              0.000000\n",
      "water_quality             0.000000\n",
      "extraction_type           0.000000\n",
      "quality_group             0.000000\n",
      "quantity                  0.000000\n",
      "id                        0.000000\n",
      "recorded_by               0.000000\n",
      "construction_year         0.000000\n",
      "status_group              0.000000\n",
      "population                0.000000\n",
      "ward                      0.000000\n",
      "lga                       0.000000\n",
      "district_code             0.000000\n",
      "region_code               0.000000\n",
      "region                    0.000000\n",
      "basin                     0.000000\n",
      "num_private               0.000000\n",
      "latitude                  0.000000\n",
      "longitude                 0.000000\n",
      "gps_height                0.000000\n",
      "date_recorded             0.000000\n",
      "amount_tsh                0.000000\n",
      "waterpoint_type_group     0.000000\n",
      "dtype: float64\n"
     ]
    }
   ],
   "source": [
    "\n",
    "# Calculate missing percentages\n",
    "missing_percentage = (df.isnull().sum() / len(df)) * 100\n",
    "\n",
    "# Display missing values sorted in descending order\n",
    "print(missing_percentage.sort_values(ascending=False))"
   ]
  },
  {
   "cell_type": "code",
   "execution_count": 7,
   "id": "80e6218e",
   "metadata": {},
   "outputs": [],
   "source": [
    "# For categorical columns - fill with mode\n",
    "cols_to_impute = ['scheme_management', 'installer', 'funder', 'public_meeting', 'permit', 'subvillage', 'wpt_name']\n",
    "\n",
    "for col in cols_to_impute:\n",
    "    df[col] = df[col].fillna(df[col].mode()[0])\n",
    "\n",
    "# Optional: drop 'scheme_name' due to high missing %\n",
    "df = df.drop(columns=['scheme_name'])\n"
   ]
  },
  {
   "cell_type": "code",
   "execution_count": 8,
   "id": "cfff3e8e",
   "metadata": {},
   "outputs": [
    {
     "data": {
      "text/plain": [
       "0        False\n",
       "1        False\n",
       "2        False\n",
       "3        False\n",
       "4        False\n",
       "         ...  \n",
       "59395    False\n",
       "59396    False\n",
       "59397    False\n",
       "59398    False\n",
       "59399    False\n",
       "Length: 59400, dtype: bool"
      ]
     },
     "execution_count": 8,
     "metadata": {},
     "output_type": "execute_result"
    }
   ],
   "source": [
    "\n",
    "df.duplicated()"
   ]
  },
  {
   "cell_type": "markdown",
   "id": "2f9d62ea",
   "metadata": {},
   "source": [
    "## Visualisations"
   ]
  },
  {
   "cell_type": "code",
   "execution_count": 28,
   "id": "c45f48ae",
   "metadata": {},
   "outputs": [
    {
     "data": {
      "image/png": "[encoded data removed]",
      "text/plain": [
       "<Figure size 864x432 with 1 Axes>"
      ]
     },
     "metadata": {
      "needs_background": "light"
     },
     "output_type": "display_data"
    }
   ],
   "source": [
    "import pandas as pd\n",
    "import matplotlib.pyplot as plt\n",
    "import seaborn as sns\n",
    "\n",
    "\n",
    "\n",
    "# Step 2: Count wells per region\n",
    "region_counts = df['region'].value_counts().reset_index()\n",
    "region_counts.columns = ['Region', 'Well Count']\n",
    "\n",
    "# Step 3: Plot\n",
    "plt.figure(figsize=(12, 6))\n",
    "sns.barplot(data=region_counts, x='Region', y='Well Count', palette='coolwarm')\n",
    "plt.title('Number of Wells by Region')\n",
    "plt.xticks(rotation=45, ha='right')\n",
    "plt.xlabel('Region')\n",
    "plt.ylabel('Number of Wells')\n",
    "plt.tight_layout()\n",
    "plt.show()"
   ]
  },
  {
   "cell_type": "code",
   "execution_count": 29,
   "id": "f225c28d",
   "metadata": {},
   "outputs": [
    {
     "data": {
      "image/png": "[encoded data removed]",
      "text/plain": [
       "<Figure size 1008x504 with 2 Axes>"
      ]
     },
     "metadata": {
      "needs_background": "light"
     },
     "output_type": "display_data"
    }
   ],
   "source": [
    "import matplotlib.pyplot as plt\n",
    "import seaborn as sns\n",
    "\n",
    "# Assume df is the main DataFrame and already loaded with 'region', 'status_group', and 'population'\n",
    "\n",
    "# Filter for non-functional wells\n",
    "non_functional_df = df[df['status_group'] == 'non functional']\n",
    "\n",
    "# Group by region and aggregate count of non-functional wells and average population\n",
    "region_summary = non_functional_df.groupby('region').agg({\n",
    "    'id': 'count',\n",
    "    'population': 'mean'\n",
    "}).rename(columns={'id': 'non_functional_wells', 'population': 'avg_population'}).reset_index()\n",
    "\n",
    "# Sort by number of non-functional wells for better visualization\n",
    "region_summary = region_summary.sort_values(by='non_functional_wells', ascending=False)\n",
    "\n",
    "# Plot\n",
    "fig, ax1 = plt.subplots(figsize=(14, 7))\n",
    "\n",
    "# Bar plot for non-functional wells\n",
    "sns.barplot(\n",
    "    data=region_summary,\n",
    "    x='region',\n",
    "    y='non_functional_wells',\n",
    "    palette='Reds',\n",
    "    ax=ax1\n",
    ")\n",
    "ax1.set_ylabel('Number of Non-Functional Wells', color='red')\n",
    "ax1.set_xlabel('Region')\n",
    "ax1.tick_params(axis='x', rotation=45)\n",
    "\n",
    "# Create second y-axis for average population\n",
    "ax2 = ax1.twinx()\n",
    "sns.lineplot(\n",
    "    data=region_summary,\n",
    "    x='region',\n",
    "    y='avg_population',\n",
    "    color='blue',\n",
    "    marker='o',\n",
    "    ax=ax2\n",
    ")\n",
    "ax2.set_ylabel('Average Population Size', color='blue')\n",
    "\n",
    "plt.title('Non-Functional Wells and Average Population by Region')\n",
    "plt.tight_layout()\n",
    "plt.show()\n",
    "\n",
    "\n"
   ]
  },
  {
   "cell_type": "markdown",
   "id": "5c63068a",
   "metadata": {},
   "source": [
    "## Encoding the Categorical Variables "
   ]
  },
  {
   "cell_type": "code",
   "execution_count": 9,
   "id": "4b8ec2c9",
   "metadata": {},
   "outputs": [
    {
     "name": "stderr",
     "output_type": "stream",
     "text": [
      "c:\\Users\\ADMIN\\anaconda3\\envs\\learn-env\\lib\\site-packages\\sklearn\\preprocessing\\_encoders.py:228: UserWarning: Found unknown categories in columns [0, 1] during transform. These unknown categories will be encoded as all zeros\n",
      "  warnings.warn(\n",
      "c:\\Users\\ADMIN\\anaconda3\\envs\\learn-env\\lib\\site-packages\\sklearn\\linear_model\\_logistic.py:460: ConvergenceWarning: lbfgs failed to converge (status=1):\n",
      "STOP: TOTAL NO. of ITERATIONS REACHED LIMIT.\n",
      "\n",
      "Increase the number of iterations (max_iter) or scale the data as shown in:\n",
      "    https://scikit-learn.org/stable/modules/preprocessing.html\n",
      "Please also refer to the documentation for alternative solver options:\n",
      "    https://scikit-learn.org/stable/modules/linear_model.html#logistic-regression\n",
      "  n_iter_i = _check_optimize_result(\n"
     ]
    },
    {
     "data": {
      "text/html": [
       "<style>#sk-container-id-1 {color: black;}#sk-container-id-1 pre{padding: 0;}#sk-container-id-1 div.sk-toggleable {background-color: white;}#sk-container-id-1 label.sk-toggleable__label {cursor: pointer;display: block;width: 100%;margin-bottom: 0;padding: 0.3em;box-sizing: border-box;text-align: center;}#sk-container-id-1 label.sk-toggleable__label-arrow:before {content: \"▸\";float: left;margin-right: 0.25em;color: #696969;}#sk-container-id-1 label.sk-toggleable__label-arrow:hover:before {color: black;}#sk-container-id-1 div.sk-estimator:hover label.sk-toggleable__label-arrow:before {color: black;}#sk-container-id-1 div.sk-toggleable__content {max-height: 0;max-width: 0;overflow: hidden;text-align: left;background-color: #f0f8ff;}#sk-container-id-1 div.sk-toggleable__content pre {margin: 0.2em;color: black;border-radius: 0.25em;background-color: #f0f8ff;}#sk-container-id-1 input.sk-toggleable__control:checked~div.sk-toggleable__content {max-height: 200px;max-width: 100%;overflow: auto;}#sk-container-id-1 input.sk-toggleable__control:checked~label.sk-toggleable__label-arrow:before {content: \"▾\";}#sk-container-id-1 div.sk-estimator input.sk-toggleable__control:checked~label.sk-toggleable__label {background-color: #d4ebff;}#sk-container-id-1 div.sk-label input.sk-toggleable__control:checked~label.sk-toggleable__label {background-color: #d4ebff;}#sk-container-id-1 input.sk-hidden--visually {border: 0;clip: rect(1px 1px 1px 1px);clip: rect(1px, 1px, 1px, 1px);height: 1px;margin: -1px;overflow: hidden;padding: 0;position: absolute;width: 1px;}#sk-container-id-1 div.sk-estimator {font-family: monospace;background-color: #f0f8ff;border: 1px dotted black;border-radius: 0.25em;box-sizing: border-box;margin-bottom: 0.5em;}#sk-container-id-1 div.sk-estimator:hover {background-color: #d4ebff;}#sk-container-id-1 div.sk-parallel-item::after {content: \"\";width: 100%;border-bottom: 1px solid gray;flex-grow: 1;}#sk-container-id-1 div.sk-label:hover label.sk-toggleable__label {background-color: #d4ebff;}#sk-container-id-1 div.sk-serial::before {content: \"\";position: absolute;border-left: 1px solid gray;box-sizing: border-box;top: 0;bottom: 0;left: 50%;z-index: 0;}#sk-container-id-1 div.sk-serial {display: flex;flex-direction: column;align-items: center;background-color: white;padding-right: 0.2em;padding-left: 0.2em;position: relative;}#sk-container-id-1 div.sk-item {position: relative;z-index: 1;}#sk-container-id-1 div.sk-parallel {display: flex;align-items: stretch;justify-content: center;background-color: white;position: relative;}#sk-container-id-1 div.sk-item::before, #sk-container-id-1 div.sk-parallel-item::before {content: \"\";position: absolute;border-left: 1px solid gray;box-sizing: border-box;top: 0;bottom: 0;left: 50%;z-index: -1;}#sk-container-id-1 div.sk-parallel-item {display: flex;flex-direction: column;z-index: 1;position: relative;background-color: white;}#sk-container-id-1 div.sk-parallel-item:first-child::after {align-self: flex-end;width: 50%;}#sk-container-id-1 div.sk-parallel-item:last-child::after {align-self: flex-start;width: 50%;}#sk-container-id-1 div.sk-parallel-item:only-child::after {width: 0;}#sk-container-id-1 div.sk-dashed-wrapped {border: 1px dashed gray;margin: 0 0.4em 0.5em 0.4em;box-sizing: border-box;padding-bottom: 0.4em;background-color: white;}#sk-container-id-1 div.sk-label label {font-family: monospace;font-weight: bold;display: inline-block;line-height: 1.2em;}#sk-container-id-1 div.sk-label-container {text-align: center;}#sk-container-id-1 div.sk-container {/* jupyter's `normalize.less` sets `[hidden] { display: none; }` but bootstrap.min.css set `[hidden] { display: none !important; }` so we also need the `!important` here to be able to override the default hidden behavior on the sphinx rendered scikit-learn.org. See: https://github.com/scikit-learn/scikit-learn/issues/21755 */display: inline-block !important;position: relative;}#sk-container-id-1 div.sk-text-repr-fallback {display: none;}</style><div id=\"sk-container-id-1\" class=\"sk-top-container\"><div class=\"sk-text-repr-fallback\"><pre>LogisticRegression(max_iter=1000)</pre><b>In a Jupyter environment, please rerun this cell to show the HTML representation or trust the notebook. <br />On GitHub, the HTML representation is unable to render, please try loading this page with nbviewer.org.</b></div><div class=\"sk-container\" hidden><div class=\"sk-item\"><div class=\"sk-estimator sk-toggleable\"><input class=\"sk-toggleable__control sk-hidden--visually\" id=\"sk-estimator-id-1\" type=\"checkbox\" checked><label for=\"sk-estimator-id-1\" class=\"sk-toggleable__label sk-toggleable__label-arrow\">LogisticRegression</label><div class=\"sk-toggleable__content\"><pre>LogisticRegression(max_iter=1000)</pre></div></div></div></div></div>"
      ],
      "text/plain": [
       "LogisticRegression(max_iter=1000)"
      ]
     },
     "execution_count": 9,
     "metadata": {},
     "output_type": "execute_result"
    }
   ],
   "source": [
    "from sklearn.preprocessing import OneHotEncoder\n",
    "from sklearn.compose import ColumnTransformer\n",
    "from sklearn.model_selection import train_test_split\n",
    "\n",
    "features = ['funder', 'installer', 'gps_height', 'longitude', 'latitude', 'population', 'public_meeting']\n",
    "X = df[features]\n",
    "y = df['status_group']\n",
    "\n",
    "X_train, X_test, y_train, y_test = train_test_split(\n",
    "    X, y, test_size=0.2, random_state=42, stratify=y\n",
    ")\n",
    "\n",
    "cat_cols = ['funder', 'installer', 'public_meeting']  # categorical columns\n",
    "num_cols = ['gps_height', 'longitude', 'latitude', 'population']  # numeric columns\n",
    "\n",
    "# Setup ColumnTransformer to apply OneHotEncoder to categorical columns only\n",
    "preprocessor = ColumnTransformer(\n",
    "    transformers=[\n",
    "        ('cat', OneHotEncoder(drop='first', handle_unknown='ignore'), cat_cols)\n",
    "    ],\n",
    "    remainder='passthrough'  # numeric columns passed without change\n",
    ")\n",
    "\n",
    "# Fit and transform train data\n",
    "X_train = preprocessor.fit_transform(X_train)\n",
    "X_test = preprocessor.transform(X_test)\n",
    "\n",
    "# Now train the model\n",
    "model = LogisticRegression(max_iter=1000)\n",
    "model.fit(X_train, y_train)\n"
   ]
  },
  {
   "cell_type": "code",
   "execution_count": 10,
   "id": "11b4795e",
   "metadata": {},
   "outputs": [],
   "source": [
    "# Generate predictions (class labels) on the test set\n",
    "y_pred = model.predict(X_test)\n",
    "\n",
    "# Generate prediction probabilities for positive class (useful for ROC AUC)\n",
    "y_prob = model.predict_proba(X_test)\n"
   ]
  },
  {
   "cell_type": "code",
   "execution_count": 11,
   "id": "fc4be863",
   "metadata": {},
   "outputs": [
    {
     "name": "stdout",
     "output_type": "stream",
     "text": [
      "Accuracy: 0.5887205387205388\n",
      "Precision: 0.5704126121687745\n",
      "Recall: 0.5887205387205388\n",
      "F1 Score: 0.554683434486135\n",
      "ROC AUC: 0.6668675266843823\n"
     ]
    }
   ],
   "source": [
    "print(\"Accuracy:\", accuracy_score(y_test, y_pred))\n",
    "\n",
    "print(\"Precision:\", precision_score(y_test, y_pred, average='weighted'))\n",
    "\n",
    "print(\"Recall:\", recall_score(y_test, y_pred, average='weighted'))\n",
    "\n",
    "print(\"F1 Score:\", f1_score(y_test, y_pred, average='weighted'))\n",
    "\n",
    "print(\"ROC AUC:\", roc_auc_score(y_test, y_prob, multi_class='ovr'))  # ovn or ovr for multiclass ROC AUC\n"
   ]
  },
  {
   "cell_type": "code",
   "execution_count": 12,
   "id": "304ab80d",
   "metadata": {},
   "outputs": [
    {
     "data": {
      "image/png": "[encoded data removed]",
      "text/plain": [
       "<Figure size 576x432 with 2 Axes>"
      ]
     },
     "metadata": {
      "needs_background": "light"
     },
     "output_type": "display_data"
    }
   ],
   "source": [
    "from sklearn.metrics import confusion_matrix\n",
    "import seaborn as sns\n",
    "import matplotlib.pyplot as plt\n",
    "\n",
    "# Generate confusion matrix\n",
    "cm = confusion_matrix(y_test, y_pred)\n",
    "\n",
    "# Plot confusion matrix heatmap\n",
    "plt.figure(figsize=(8,6))\n",
    "sns.heatmap(cm, annot=True, fmt='d', cmap='Blues', xticklabels=model.classes_, yticklabels=model.classes_)\n",
    "plt.xlabel('Predicted Label')\n",
    "plt.ylabel('True Label')\n",
    "plt.title('Confusion Matrix')\n",
    "plt.show()\n"
   ]
  },
  {
   "cell_type": "markdown",
   "id": "0af9eebb",
   "metadata": {},
   "source": [
    "Class 0 is mostly predicted correctly (5128), but misclassified as Class 2 (1323 times).\n",
    "\n",
    "Class 1 is poorly predicted — only 11 correct predictions out of 863 (11+539+313), which is ~1.3% accuracy for Class 1.\n",
    "\n",
    "Class 2 is also often misclassified as Class 0 (2698 times), despite 1855 correct predictions"
   ]
  },
  {
   "cell_type": "code",
   "execution_count": 13,
   "id": "2969ef4f",
   "metadata": {},
   "outputs": [
    {
     "name": "stdout",
     "output_type": "stream",
     "text": [
      "Class distribution in test set:\n",
      "status_group\n",
      "functional                 6452\n",
      "non functional             4565\n",
      "functional needs repair     863\n",
      "Name: count, dtype: int64\n",
      "\n",
      "Class distribution in entire dataset:\n",
      "status_group\n",
      "functional                 32259\n",
      "non functional             22824\n",
      "functional needs repair     4317\n",
      "Name: count, dtype: int64\n"
     ]
    }
   ],
   "source": [
    "# Check class distribution in y_test\n",
    "print(\"Class distribution in test set:\")\n",
    "print(y_test.value_counts())\n",
    "\n",
    "# Check class distribution in full dataset (replace y with your full target)\n",
    "print(\"\\nClass distribution in entire dataset:\")\n",
    "print(y.value_counts())\n"
   ]
  },
  {
   "cell_type": "markdown",
   "id": "c2bdd52a",
   "metadata": {},
   "source": [
    "The class \"functional needs repair\" is severely underrepresented (just 7% of data).\n",
    "\n",
    "This explains the confusion matrix issue:\n",
    "\n",
    "Your model performs very poorly on this class.\n",
    "\n",
    "Even Class 1 (functional needs repair) samples are being predicted as either Class 0 or 2.\n",
    "\n",
    "Likely the model is biased toward the dominant classes (Functional and Non-functional)."
   ]
  },
  {
   "cell_type": "markdown",
   "id": "f32cbaed",
   "metadata": {},
   "source": [
    "## Model 2"
   ]
  },
  {
   "cell_type": "code",
   "execution_count": 14,
   "id": "3a039b98",
   "metadata": {},
   "outputs": [
    {
     "name": "stdout",
     "output_type": "stream",
     "text": [
      "              precision    recall  f1-score   support\n",
      "\n",
      "           0       0.60      0.65      0.62      5428\n",
      "           1       0.68      0.63      0.66      6452\n",
      "\n",
      "    accuracy                           0.64     11880\n",
      "   macro avg       0.64      0.64      0.64     11880\n",
      "weighted avg       0.64      0.64      0.64     11880\n",
      "\n"
     ]
    }
   ],
   "source": [
    "import pandas as pd\n",
    "from sklearn.tree import DecisionTreeClassifier\n",
    "from sklearn.metrics import classification_report\n",
    "from sklearn.utils import resample\n",
    "\n",
    "# === 1. Convert sparse X_train to DataFrame if needed ===\n",
    "# Converts a sparse matrix (from OneHotEncoder or similar) to a DataFrame so we can manipulate it\n",
    "X_train_df = pd.DataFrame.sparse.from_spmatrix(X_train)\n",
    "\n",
    "# Convert y_train (likely a NumPy array or Series) into a pandas Series and reset index\n",
    "y_train_series = pd.Series(y_train).reset_index(drop=True)\n",
    "\n",
    "# === 2. Convert y_train to binary target ===\n",
    "# Functional = 1 (positive class), everything else = 0 (negative class: needs repair or non functional)\n",
    "y_train_binary = y_train_series.apply(lambda x: 1 if x == 'functional' else 0)\n",
    "\n",
    "# === 3. Combine for resampling ===\n",
    "# Copy X_train_df and add the binary labels as a new column called 'target' to form a combined DataFrame\n",
    "train_df = X_train_df.copy()\n",
    "train_df['target'] = y_train_binary\n",
    "\n",
    "# === 4. Resample to balance binary classes ===\n",
    "# Separate rows based on binary class\n",
    "df_positive = train_df[train_df['target'] == 1]  # Functional\n",
    "df_negative = train_df[train_df['target'] == 0]  # Non-functional or needs repair\n",
    "\n",
    "# Downsample the majority class (functional) to 5000 samples\n",
    "df_positive_down = resample(df_positive, replace=False, n_samples=5000, random_state=42)\n",
    "\n",
    "# Upsample the minority class (not functional) to 5000 samples\n",
    "df_negative_up = resample(df_negative, replace=True, n_samples=5000, random_state=42)\n",
    "\n",
    "# Combine the downsampled and upsampled data, then shuffle to mix rows\n",
    "df_balanced = pd.concat([df_positive_down, df_negative_up])\n",
    "df_balanced = df_balanced.sample(frac=1, random_state=42).reset_index(drop=True)\n",
    "\n",
    "# === 5. Split balanced dataset back into features and target ===\n",
    "# Drop the target column to get the resampled features\n",
    "X_train_bal = df_balanced.drop('target', axis=1)\n",
    "\n",
    "# Save the target column as the new resampled y_train\n",
    "y_train_bal = df_balanced['target']\n",
    "\n",
    "# === 6. Train Decision Tree ===\n",
    "# Fit a Decision Tree with max depth 10 and balanced class weights to account for class imbalance\n",
    "clf = DecisionTreeClassifier(max_depth=10, class_weight='balanced', random_state=42)\n",
    "clf.fit(X_train_bal, y_train_bal)\n",
    "\n",
    "# === 7. Prepare y_test as binary ===\n",
    "# Apply same transformation to y_test: functional → 1, else → 0\n",
    "y_test_binary = pd.Series(y_test).apply(lambda x: 1 if x == 'functional' else 0)\n",
    "\n",
    "# === 8. Predict and evaluate ===\n",
    "# Predict binary class on the original test set\n",
    "y_pred = clf.predict(X_test)\n",
    "\n",
    "# Print precision, recall, f1-score, and support for each class\n",
    "print(classification_report(y_test_binary, y_pred))\n"
   ]
  },
  {
   "cell_type": "markdown",
   "id": "ed2b15a0",
   "metadata": {},
   "source": [
    "Precision\n",
    "Class 0 (0.60): Out of all predictions the model made as \"not functional\", 60% were correct.\n",
    "\n",
    "Class 1 (0.68): Out of all predictions made as \"functional\", 68% were correct.\n",
    "\n",
    "Precision is important when false positives are costly.\n",
    "Example: You wrongly say a pump is functional (but it isn’t) → may delay repair.\n",
    "\n",
    "Recall\n",
    "Class 0 (0.65): The model correctly found 65% of the actual non-functional pumps.\n",
    "\n",
    "Class 1 (0.63): The model found 63% of the actual functional pumps.\n",
    "\n",
    "Recall is important when false negatives are costly.\n",
    "Example: You fail to detect a broken pump → leads to service disruption.\n",
    "\n",
    "F1-score\n",
    "Harmonic mean of precision and recall.\n",
    "\n",
    "Balances the trade-off between them.\n",
    "\n",
    "Class 0 (0.62), Class 1 (0.66) — good but room to improve.\n",
    "\n"
   ]
  },
  {
   "cell_type": "code",
   "execution_count": 15,
   "id": "55ed7042",
   "metadata": {},
   "outputs": [
    {
     "name": "stdout",
     "output_type": "stream",
     "text": [
      "Fitting 5 folds for each of 72 candidates, totalling 360 fits\n",
      "Best Parameters: {'criterion': 'gini', 'max_depth': 20, 'min_samples_leaf': 1, 'min_samples_split': 2}\n",
      "\n",
      "Classification Report:\n",
      "              precision    recall  f1-score   support\n",
      "\n",
      "           0       0.64      0.61      0.63      5428\n",
      "           1       0.69      0.71      0.70      6452\n",
      "\n",
      "    accuracy                           0.67     11880\n",
      "   macro avg       0.66      0.66      0.66     11880\n",
      "weighted avg       0.67      0.67      0.67     11880\n",
      "\n"
     ]
    }
   ],
   "source": [
    "from sklearn.tree import DecisionTreeClassifier\n",
    "from sklearn.model_selection import GridSearchCV\n",
    "from sklearn.metrics import classification_report\n",
    "\n",
    "# 1. Set up parameter grid\n",
    "param_grid = {\n",
    "    'max_depth': [5, 10, 15, 20],\n",
    "    'min_samples_split': [2, 5, 10],\n",
    "    'min_samples_leaf': [1, 2, 4],\n",
    "    'criterion': ['gini', 'entropy']\n",
    "}\n",
    "\n",
    "# 2. Initialize model\n",
    "dt = DecisionTreeClassifier(class_weight='balanced', random_state=42)\n",
    "\n",
    "# 3. Set up GridSearchCV\n",
    "grid_search = GridSearchCV(estimator=dt,\n",
    "                           param_grid=param_grid,\n",
    "                           scoring='f1',\n",
    "                           cv=5,\n",
    "                           n_jobs=-1,\n",
    "                           verbose=1)\n",
    "\n",
    "# 4. Fit on the balanced training set\n",
    "grid_search.fit(X_train_bal, y_train_bal)\n",
    "\n",
    "# 5. Best model\n",
    "best_dt = grid_search.best_estimator_\n",
    "\n",
    "# 6. Predict on test set\n",
    "y_pred = best_dt.predict(X_test)\n",
    "\n",
    "# 7. Evaluate\n",
    "print(\"Best Parameters:\", grid_search.best_params_)\n",
    "print(\"\\nClassification Report:\")\n",
    "print(classification_report(y_test_binary, y_pred))\n"
   ]
  },
  {
   "cell_type": "markdown",
   "id": "0b97f170",
   "metadata": {},
   "source": [
    "You achieved moderate accuracy (67%), a good sign after class balancing and tuning.\n",
    "\n",
    "Class 1 (functional) is predicted slightly better than class 0 — higher recall and F1.\n",
    "\n",
    "Class 0 (not functional) may benefit from:\n",
    "\n",
    "More training data.\n",
    "\n",
    "Cost-sensitive training or higher penalty for false negatives.\n",
    "\n",
    "Trying models like Random Forest, XGBoost, or LightGBM.\n",
    "\n"
   ]
  },
  {
   "cell_type": "markdown",
   "id": "23248035",
   "metadata": {},
   "source": [
    " ## Model 3 Random Forest "
   ]
  },
  {
   "cell_type": "code",
   "execution_count": 16,
   "id": "24114316",
   "metadata": {},
   "outputs": [
    {
     "name": "stdout",
     "output_type": "stream",
     "text": [
      "Fitting 5 folds for each of 24 candidates, totalling 120 fits\n",
      "Best Parameters: {'max_depth': None, 'min_samples_leaf': 1, 'min_samples_split': 5, 'n_estimators': 100}\n",
      "\n",
      "Classification Report:\n",
      "              precision    recall  f1-score   support\n",
      "\n",
      "           0       0.80      0.86      0.83      7315\n",
      "           1       0.75      0.66      0.70      4565\n",
      "\n",
      "    accuracy                           0.78     11880\n",
      "   macro avg       0.78      0.76      0.77     11880\n",
      "weighted avg       0.78      0.78      0.78     11880\n",
      "\n",
      "Confusion Matrix:\n",
      "[[6311 1004]\n",
      " [1553 3012]]\n"
     ]
    }
   ],
   "source": [
    "import pandas as pd\n",
    "from sklearn.ensemble import RandomForestClassifier\n",
    "from sklearn.model_selection import GridSearchCV\n",
    "from sklearn.metrics import classification_report, confusion_matrix\n",
    "\n",
    "# --- Assume X_train, X_test, y_train, y_test are already defined ---\n",
    "\n",
    "# Step 1: Define mapping for binary classification\n",
    "target_mapping = {\n",
    "    'functional': 0,\n",
    "    'functional needs repair': 0,\n",
    "    'non functional': 1\n",
    "}\n",
    "\n",
    "# Step 2: Map y_train and y_test to binary labels\n",
    "y_train_binary = y_train.map(target_mapping)\n",
    "y_test_binary = y_test.map(target_mapping)\n",
    "\n",
    "# Step 3: Initialize RandomForestClassifier\n",
    "rf = RandomForestClassifier(random_state=42)\n",
    "\n",
    "# Step 4: Hyperparameter grid for tuning\n",
    "param_grid = {\n",
    "    'n_estimators': [50, 100],\n",
    "    'max_depth': [10, 20, None],\n",
    "    'min_samples_split': [2, 5],\n",
    "    'min_samples_leaf': [1, 2]\n",
    "}\n",
    "\n",
    "# Step 5: Setup GridSearchCV\n",
    "grid_search = GridSearchCV(rf, param_grid, cv=5, n_jobs=-1, verbose=1)\n",
    "\n",
    "# Step 6: Fit on training data\n",
    "grid_search.fit(X_train, y_train_binary)\n",
    "\n",
    "# Step 7: Best estimator\n",
    "best_rf = grid_search.best_estimator_\n",
    "print(\"Best Parameters:\", grid_search.best_params_)\n",
    "\n",
    "# Step 8: Predict on test data\n",
    "y_pred_rf = best_rf.predict(X_test)\n",
    "\n",
    "# Step 9: Classification report and confusion matrix\n",
    "print(\"\\nClassification Report:\")\n",
    "print(classification_report(y_test_binary, y_pred_rf))\n",
    "\n",
    "print(\"Confusion Matrix:\")\n",
    "print(confusion_matrix(y_test_binary, y_pred_rf))\n"
   ]
  },
  {
   "cell_type": "markdown",
   "id": "0b1bbca1",
   "metadata": {},
   "source": [
    "Class 0 — Functional\n",
    "Very strong recall (0.86): most functional pumps are correctly detected.\n",
    "\n",
    "High precision (0.80): few false positives.\n",
    "\n",
    "F1 = 0.83 → overall, your model handles Class 0 well.\n",
    "\n",
    "Class 1 — Non-Functional\n",
    "Recall (0.66) is lower: about 34% of non-functional pumps are missed.\n",
    "\n",
    "Precision (0.75) is decent, so most predicted non-functionals are indeed correct.\n",
    "\n",
    "F1 = 0.70 → reasonable performance, but room to improve recall."
   ]
  }
 ],
 "metadata": {
  "kernelspec": {
   "display_name": "learn-env",
   "language": "python",
   "name": "python3"
  },
  "language_info": {
   "codemirror_mode": {
    "name": "ipython",
    "version": 3
   },
   "file_extension": ".py",
   "mimetype": "text/x-python",
   "name": "python",
   "nbconvert_exporter": "python",
   "pygments_lexer": "ipython3",
   "version": "3.8.5"
  }
 },
 "nbformat": 4,
 "nbformat_minor": 5
}
